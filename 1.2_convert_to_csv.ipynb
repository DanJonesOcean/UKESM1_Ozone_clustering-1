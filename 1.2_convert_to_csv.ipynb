{
 "cells": [
  {
   "cell_type": "markdown",
   "id": "9526da8b-6238-414c-91cb-45b0d2c20253",
   "metadata": {},
   "source": [
    "# Convert from xarray DataSet to CSV"
   ]
  },
  {
   "cell_type": "markdown",
   "id": "459c6730-8d9f-4507-b2db-6330524ef0ae",
   "metadata": {},
   "source": [
    "This is for backwards compatability with the code in notebook 2.0, which was developed before the authors knew xarray. This code is very slow; there's no doubt a much faster way to do this. At present, it takes over an hour for each experiment. "
   ]
  },
  {
   "cell_type": "code",
   "execution_count": 1,
   "id": "bdf656f0-b5c0-4f48-9c97-21486e06ec7b",
   "metadata": {},
   "outputs": [],
   "source": [
    "import xarray as xr\n",
    "import pandas as pd\n",
    "import numpy as np\n",
    "from tqdm import tqdm"
   ]
  },
  {
   "cell_type": "markdown",
   "id": "27076fe6-d98c-4b1f-93a1-1d25f2d287a0",
   "metadata": {},
   "source": [
    "Suppress warnings based on pandas depreciated function, since we're using a frozen version"
   ]
  },
  {
   "cell_type": "code",
   "execution_count": 2,
   "id": "d04a3035-abfb-4dc9-ad0a-8736f673df59",
   "metadata": {},
   "outputs": [],
   "source": [
    "import warnings\n",
    "warnings.filterwarnings(action='ignore', category=FutureWarning) # setting ignore as a parameter and further adding category"
   ]
  },
  {
   "cell_type": "markdown",
   "id": "5624cdc7-3b84-4fea-8d54-050dc20ccc36",
   "metadata": {},
   "source": [
    "## Define function to carry out the conversion"
   ]
  },
  {
   "cell_type": "code",
   "execution_count": 3,
   "id": "7dd3b425-4d57-41b6-864a-5211d892dab1",
   "metadata": {},
   "outputs": [],
   "source": [
    "def rearrange_o3_data(ds, fname='o3_rearranged.csv'):\n",
    "    \n",
    "    ### part one: rearrange and convert to pandas dataframe\n",
    "    \n",
    "    # each x, y, season represents a single profile\n",
    "    ds = ds.stack(profile=(\"y\",\"x\",\"season\"))\n",
    "\n",
    "    # convert to a single DataArray for simplicity\n",
    "    o3 = ds.o3\n",
    "\n",
    "    # reset the index, we only need profile number \n",
    "    o3 = o3.reset_index('profile')\n",
    "\n",
    "    # conver to a pandas dataframe for ease of writing csv\n",
    "    o3_df = o3.to_dataframe()\n",
    "\n",
    "    # the x, y columns duplicate lon, lat, so we can drop them safely\n",
    "    o3_df.drop([\"x\",\"y\"],axis=1,inplace=True)\n",
    "    o3_df = o3_df.reset_index()\n",
    "\n",
    "    ### part two: loop through profiles for reformatting\n",
    "    \n",
    "    for profile_number in tqdm(range(o3_df.profile.max())):\n",
    "    #for profile_number in range(5):\n",
    "        \n",
    "        # select single profile\n",
    "        oneProf = o3_df.loc[o3_df['profile']==profile_number]\n",
    "        \n",
    "        # manually rearrange data\n",
    "        x = oneProf.loc[oneProf['plev']==100.0].lon.values[0]\n",
    "        y = oneProf.loc[oneProf['plev']==100.0].lat.values[0]\n",
    "        season = oneProf.loc[oneProf['plev']==100.0].season.values[0]\n",
    "        v1000 = oneProf.loc[oneProf['plev']==100000.0].o3.values[0]\n",
    "        v0925 = oneProf.loc[oneProf['plev']==92500.0].o3.values[0]\n",
    "        v0850 = oneProf.loc[oneProf['plev']==85000.0].o3.values[0]\n",
    "        v0700 = oneProf.loc[oneProf['plev']==70000.0].o3.values[0]\n",
    "        v0600 = oneProf.loc[oneProf['plev']==60000.0].o3.values[0]\n",
    "        v0500 = oneProf.loc[oneProf['plev']==50000.0].o3.values[0]\n",
    "        v0400 = oneProf.loc[oneProf['plev']==40000.0].o3.values[0]\n",
    "        v0300 = oneProf.loc[oneProf['plev']==30000.0].o3.values[0]\n",
    "        v0250 = oneProf.loc[oneProf['plev']==25000.0].o3.values[0]\n",
    "        v0200 = oneProf.loc[oneProf['plev']==20000.0].o3.values[0]\n",
    "        v0150 = oneProf.loc[oneProf['plev']==15000.0].o3.values[0]\n",
    "        v0100 = oneProf.loc[oneProf['plev']==10000.0].o3.values[0]\n",
    "        v0070 = oneProf.loc[oneProf['plev']==7000.0].o3.values[0]\n",
    "        v0050 = oneProf.loc[oneProf['plev']==5000.0].o3.values[0]\n",
    "        v0030 = oneProf.loc[oneProf['plev']==3000.0].o3.values[0]\n",
    "        v0020 = oneProf.loc[oneProf['plev']==2000.0].o3.values[0]\n",
    "        v0010 = oneProf.loc[oneProf['plev']==1000.0].o3.values[0]\n",
    "        v0005 = oneProf.loc[oneProf['plev']==500.0].o3.values[0]\n",
    "        v0001 = oneProf.loc[oneProf['plev']==100.0].o3.values[0]\n",
    "        \n",
    "        # put the above values into a dict\n",
    "        data = {\n",
    "                'x': x, \n",
    "                'y': y, \n",
    "                'season' : season, \n",
    "                '1000'   : v1000,\n",
    "                '925'    : v0925,\n",
    "                '850'    : v0850,\n",
    "                '700'    : v0700,\n",
    "                '600'    : v0600,\n",
    "                '500'    : v0500,\n",
    "                '400'    : v0400,\n",
    "                '300'    : v0300,\n",
    "                '250'    : v0250,\n",
    "                '200'    : v0200,\n",
    "                '150'    : v0150,\n",
    "                '100'    : v0100,\n",
    "                '70'     : v0070,\n",
    "                '50'     : v0050,\n",
    "                '30'     : v0030,\n",
    "                '20'     : v0020,\n",
    "                '10'     : v0010,\n",
    "                '5'      : v0005,\n",
    "                '1'      : v0001,\n",
    "               }\n",
    "    \n",
    "        # either create or append to dataframe\n",
    "        if profile_number==0:\n",
    "            newdf = pd.DataFrame(data, index=[profile_number])\n",
    "        else:\n",
    "            newdf = newdf.append(data, ignore_index=True)\n",
    "            \n",
    "    ### part three: write to CSV\n",
    "    newdf.to_csv(fname, na_rep=np.nan, index=False)\n",
    "    "
   ]
  },
  {
   "cell_type": "markdown",
   "id": "85654d68-fa42-4230-9ef4-fabbb9ecd055",
   "metadata": {},
   "source": [
    "## Convert from NetCDF to rearranged CSV"
   ]
  },
  {
   "cell_type": "code",
   "execution_count": null,
   "id": "d72ae8b7-4209-4487-bca1-8a70c640eb53",
   "metadata": {},
   "outputs": [
    {
     "name": "stdout",
     "output_type": "stream",
     "text": [
      "Historical data\n"
     ]
    },
    {
     "name": "stderr",
     "output_type": "stream",
     "text": [
      "100%|██████████| 110591/110591 [1:13:43<00:00, 25.00it/s]\n",
      " 11%|█▏        | 12713/110591 [07:34<57:46, 28.23it/s]  IOPub message rate exceeded.\n",
      "The notebook server will temporarily stop sending output\n",
      "to the client in order to avoid crashing it.\n",
      "To change this limit, set the config variable\n",
      "`--NotebookApp.iopub_msg_rate_limit`.\n",
      "\n",
      "Current values:\n",
      "NotebookApp.iopub_msg_rate_limit=1000.0 (msgs/sec)\n",
      "NotebookApp.rate_limit_window=3.0 (secs)\n",
      "\n",
      " 37%|███▋      | 41082/110591 [24:20<43:14, 26.79it/s]IOPub message rate exceeded.\n",
      "The notebook server will temporarily stop sending output\n",
      "to the client in order to avoid crashing it.\n",
      "To change this limit, set the config variable\n",
      "`--NotebookApp.iopub_msg_rate_limit`.\n",
      "\n",
      "Current values:\n",
      "NotebookApp.iopub_msg_rate_limit=1000.0 (msgs/sec)\n",
      "NotebookApp.rate_limit_window=3.0 (secs)\n",
      "\n",
      " 59%|█████▉    | 65715/110591 [39:12<31:44, 23.57it/s]IOPub message rate exceeded.\n",
      "The notebook server will temporarily stop sending output\n",
      "to the client in order to avoid crashing it.\n",
      "To change this limit, set the config variable\n",
      "`--NotebookApp.iopub_msg_rate_limit`.\n",
      "\n",
      "Current values:\n",
      "NotebookApp.iopub_msg_rate_limit=1000.0 (msgs/sec)\n",
      "NotebookApp.rate_limit_window=3.0 (secs)\n",
      "\n",
      " 75%|███████▍  | 82619/110591 [50:21<19:35, 23.79it/s]IOPub message rate exceeded.\n",
      "The notebook server will temporarily stop sending output\n",
      "to the client in order to avoid crashing it.\n",
      "To change this limit, set the config variable\n",
      "`--NotebookApp.iopub_msg_rate_limit`.\n",
      "\n",
      "Current values:\n",
      "NotebookApp.iopub_msg_rate_limit=1000.0 (msgs/sec)\n",
      "NotebookApp.rate_limit_window=3.0 (secs)\n",
      "\n",
      " 96%|█████████▌| 106219/110591 [1:06:52<03:14, 22.42it/s]IOPub message rate exceeded.\n",
      "The notebook server will temporarily stop sending output\n",
      "to the client in order to avoid crashing it.\n",
      "To change this limit, set the config variable\n",
      "`--NotebookApp.iopub_msg_rate_limit`.\n",
      "\n",
      "Current values:\n",
      "NotebookApp.iopub_msg_rate_limit=1000.0 (msgs/sec)\n",
      "NotebookApp.rate_limit_window=3.0 (secs)\n",
      "\n",
      " 20%|█▉        | 21591/110591 [13:53<1:02:50, 23.61it/s]IOPub message rate exceeded.\n",
      "The notebook server will temporarily stop sending output\n",
      "to the client in order to avoid crashing it.\n",
      "To change this limit, set the config variable\n",
      "`--NotebookApp.iopub_msg_rate_limit`.\n",
      "\n",
      "Current values:\n",
      "NotebookApp.iopub_msg_rate_limit=1000.0 (msgs/sec)\n",
      "NotebookApp.rate_limit_window=3.0 (secs)\n",
      "\n",
      "100%|██████████| 110591/110591 [1:16:47<00:00, 24.00it/s]\n"
     ]
    }
   ],
   "source": [
    "# historical case\n",
    "print(\"Historical data\")\n",
    "ds = xr.open_dataset(\"UKESM_O3_historical_seasonal.nc\")\n",
    "rearrange_o3_data(ds, fname=\"data_in/historical_seasonal.csv\")\n",
    "                  \n",
    "# ssp126\n",
    "print(\"SSP 126 data\")\n",
    "ds = xr.open_dataset(\"UKESM_O3_ssp126_seasonal.nc\")\n",
    "rearrange_o3_data(ds, fname=\"data_in/ssp126_seasonal.csv\")\n",
    "                  \n",
    "# ssp585\n",
    "print(\"SSP 585 data\")\n",
    "ds = xr.open_dataset(\"UKESM_O3_ssp585_seasonal.nc\")\n",
    "rearrange_o3_data(ds, fname=\"data_in/ssp585_seasonal.csv\")"
   ]
  }
 ],
 "metadata": {
  "kernelspec": {
   "display_name": "Python 3 (ipykernel)",
   "language": "python",
   "name": "python3"
  },
  "language_info": {
   "codemirror_mode": {
    "name": "ipython",
    "version": 3
   },
   "file_extension": ".py",
   "mimetype": "text/x-python",
   "name": "python",
   "nbconvert_exporter": "python",
   "pygments_lexer": "ipython3",
   "version": "3.9.7"
  }
 },
 "nbformat": 4,
 "nbformat_minor": 5
}
